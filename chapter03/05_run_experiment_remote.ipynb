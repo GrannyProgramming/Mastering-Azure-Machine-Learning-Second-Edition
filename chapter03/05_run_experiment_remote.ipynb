{
 "cells": [
  {
   "cell_type": "code",
   "execution_count": null,
   "metadata": {},
   "outputs": [],
   "source": [
    "from azureml.core import Workspace, Experiment\n",
    "\n",
    "# Configure experiment\n",
    "ws = Workspace.from_config()\n",
    "exp = Experiment(workspace=ws, name='cifar10_cnn_remote')"
   ]
  },
  {
   "cell_type": "code",
   "execution_count": null,
   "metadata": {},
   "outputs": [],
   "source": [
    "from azureml.core.compute import ComputeTarget, AmlCompute\n",
    "from azureml.core.compute_target import ComputeTargetException\n",
    "\n",
    "# cluster configuration\n",
    "cluster_name = \"mldemocompute\"\n",
    "min_nodes = 0\n",
    "max_nodes = 2\n",
    "vm_size = \"STANDARD_D2_V2\"\n",
    "\n",
    "# verify that the cluster exists already\n",
    "try:\n",
    "    aml_cluster = ComputeTarget(workspace=ws, name=cluster_name)\n",
    "except ComputeTargetException:\n",
    "    print('Cluster not `%s` not found, creating one now.' % cluster_name)\n",
    "    config = AmlCompute.provisioning_configuration(vm_size=vm_size, min_nodes=min_nodes, max_nodes=max_nodes)\n",
    "    aml_cluster = ComputeTarget.create(workspace=ws, name=cluster_name, provisioning_configuration=config)\n",
    "\n",
    "# wait until the cluster is ready\n",
    "aml_cluster.wait_for_completion(show_output=True)"
   ]
  },
  {
   "cell_type": "code",
   "execution_count": null,
   "metadata": {},
   "outputs": [],
   "source": [
    "import os\n",
    "# define the execution script location\n",
    "script = 'cifar10_cnn_remote.py'\n",
    "script_folder = os.path.join(os.getcwd(), 'code')\n",
    "\n",
    "# define the PIP requirements file location\n",
    "pipreq = 'requirements.txt'\n",
    "pipreq_path = os.path.join(os.getcwd(), '.azureml', pipreq)\n"
   ]
  },
  {
   "cell_type": "code",
   "execution_count": null,
   "metadata": {},
   "outputs": [],
   "source": [
    "from azureml.core.environment import Environment\n",
    "\n",
    "# set a remote environment from a PIP requirement file\n",
    "myenv = Environment.from_pip_requirements(name = \"remote_env\", file_path = pipreq_path)\n",
    "# show environment object\n",
    "myenv"
   ]
  },
  {
   "cell_type": "code",
   "execution_count": null,
   "metadata": {},
   "outputs": [],
   "source": [
    "from azureml.widgets import RunDetails\n",
    "from azureml.core import ScriptRunConfig\n",
    "\n",
    "src = ScriptRunConfig(source_directory=script_folder, \n",
    "                      script=script, \n",
    "                      compute_target = aml_cluster, \n",
    "                      environment = myenv)\n",
    "run = exp.submit(src)\n",
    "RunDetails(run).show()"
   ]
  },
  {
   "cell_type": "code",
   "execution_count": null,
   "metadata": {},
   "outputs": [],
   "source": []
  }
 ],
 "metadata": {
  "interpreter": {
   "hash": "f2575392019334285e0602a4035eec46b9260ee4c95297ea34ade6e3c8b8fcaf"
  },
  "kernelspec": {
   "display_name": "Python 3.8.10 64-bit",
   "name": "python3"
  },
  "language_info": {
   "codemirror_mode": {
    "name": "ipython",
    "version": 3
   },
   "file_extension": ".py",
   "mimetype": "text/x-python",
   "name": "python",
   "nbconvert_exporter": "python",
   "pygments_lexer": "ipython3",
   "version": "3.8.10"
  }
 },
 "nbformat": 4,
 "nbformat_minor": 4
}
