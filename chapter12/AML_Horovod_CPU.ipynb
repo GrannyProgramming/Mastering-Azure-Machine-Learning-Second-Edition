{
 "cells": [
  {
   "cell_type": "code",
   "execution_count": null,
   "metadata": {},
   "outputs": [],
   "source": [
    "from azureml.core import Workspace, Experiment, Run\n",
    "\n",
    "# Configure experiment\n",
    "ws = Workspace.from_config()\n",
    "exp = Experiment(workspace=ws, name='cifar10_cnn_horovod')"
   ]
  },
  {
   "cell_type": "code",
   "execution_count": null,
   "metadata": {},
   "outputs": [],
   "source": [
    "from azureml.core.compute import ComputeTarget, AmlCompute\n",
    "from azureml.core.compute_target import ComputeTargetException\n",
    "\n",
    "# Cluster configuration\n",
    "cluster_name = \"aml-cpu\"\n",
    "min_nodes = 0\n",
    "max_nodes = 2\n",
    "vm_size = \"STANDARD_D2_V2\"\n",
    "\n",
    "# Verify that the cluster exists already\n",
    "try:\n",
    "    aml_cluster = ComputeTarget(workspace=ws, name=cluster_name)\n",
    "except ComputeTargetException:\n",
    "    print('Cluster not `%s` not found, creating one now.' % cluster_name)\n",
    "    config = AmlCompute.provisioning_configuration(vm_size=vm_size, min_nodes=min_nodes, max_nodes=max_nodes)\n",
    "    aml_cluster = ComputeTarget.create(workspace=ws, name=cluster_name, provisioning_configuration=config)\n",
    "\n",
    "# Wait until the cluster is ready\n",
    "aml_cluster.wait_for_completion(show_output=True)"
   ]
  },
  {
   "cell_type": "code",
   "execution_count": null,
   "metadata": {},
   "outputs": [],
   "source": [
    "from azureml.widgets import RunDetails\n",
    "from azureml.train.dnn import TensorFlow, Mpi\n",
    "\n",
    "script = 'cifar10_cnn_horovod.py'\n",
    "script_folder = os.path.join(os.getcwd(), 'code')\n",
    "\n",
    "estimator = TensorFlow(source_directory=script_folder,\n",
    "                       compute_target=aml_cluster,\n",
    "                       entry_script=script,\n",
    "                       script_params={'--epochs': 10},\n",
    "                       node_count=2,\n",
    "                       distributed_training=Mpi(process_count_per_node=1),\n",
    "                       pip_packages=['keras'],\n",
    "                       framework_version='1.13',\n",
    "                       use_gpu=False)\n",
    "\n",
    "run = exp.submit(estimator)\n",
    "RunDetails(run).show()"
   ]
  }
 ],
 "metadata": {
  "kernelspec": {
   "display_name": "Python 3.6 - AzureML",
   "language": "python",
   "name": "python3-azureml"
  },
  "language_info": {
   "codemirror_mode": {
    "name": "ipython",
    "version": 3
   },
   "file_extension": ".py",
   "mimetype": "text/x-python",
   "name": "python",
   "nbconvert_exporter": "python",
   "pygments_lexer": "ipython3",
   "version": "3.6.9"
  }
 },
 "nbformat": 4,
 "nbformat_minor": 4
}
