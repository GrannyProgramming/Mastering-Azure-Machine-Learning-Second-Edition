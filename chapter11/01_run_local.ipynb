{
 "cells": [
  {
   "cell_type": "code",
   "execution_count": 1,
   "source": [
    "import pandas as pd"
   ],
   "outputs": [],
   "metadata": {}
  },
  {
   "cell_type": "code",
   "execution_count": 3,
   "source": [
    "from azureml.core import Workspace, Experiment\n",
    "\n",
    "ws = Workspace.from_config()\n",
    "exp = Experiment(workspace=ws, name='titanic-optimization-local')"
   ],
   "outputs": [],
   "metadata": {}
  },
  {
   "cell_type": "code",
   "execution_count": 4,
   "source": [
    "from azureml.core import Dataset\n",
    "\n",
    "dataset = Dataset.get_by_name(ws, \"titanic\")\n",
    "df = dataset.to_pandas_dataframe()\n",
    "df.head()"
   ],
   "outputs": [
    {
     "output_type": "execute_result",
     "data": {
      "text/html": [
       "<div>\n",
       "<style scoped>\n",
       "    .dataframe tbody tr th:only-of-type {\n",
       "        vertical-align: middle;\n",
       "    }\n",
       "\n",
       "    .dataframe tbody tr th {\n",
       "        vertical-align: top;\n",
       "    }\n",
       "\n",
       "    .dataframe thead th {\n",
       "        text-align: right;\n",
       "    }\n",
       "</style>\n",
       "<table border=\"1\" class=\"dataframe\">\n",
       "  <thead>\n",
       "    <tr style=\"text-align: right;\">\n",
       "      <th></th>\n",
       "      <th>PassengerId</th>\n",
       "      <th>Survived</th>\n",
       "      <th>Pclass</th>\n",
       "      <th>Name</th>\n",
       "      <th>Sex</th>\n",
       "      <th>Age</th>\n",
       "      <th>SibSp</th>\n",
       "      <th>Parch</th>\n",
       "      <th>Ticket</th>\n",
       "      <th>Fare</th>\n",
       "      <th>Cabin</th>\n",
       "      <th>Embarked</th>\n",
       "    </tr>\n",
       "  </thead>\n",
       "  <tbody>\n",
       "    <tr>\n",
       "      <th>0</th>\n",
       "      <td>1</td>\n",
       "      <td>0</td>\n",
       "      <td>3</td>\n",
       "      <td>Braund, Mr. Owen Harris</td>\n",
       "      <td>male</td>\n",
       "      <td>22.0</td>\n",
       "      <td>1</td>\n",
       "      <td>0</td>\n",
       "      <td>A/5 21171</td>\n",
       "      <td>7.2500</td>\n",
       "      <td>None</td>\n",
       "      <td>S</td>\n",
       "    </tr>\n",
       "    <tr>\n",
       "      <th>1</th>\n",
       "      <td>2</td>\n",
       "      <td>1</td>\n",
       "      <td>1</td>\n",
       "      <td>Cumings, Mrs. John Bradley (Florence Briggs Th...</td>\n",
       "      <td>female</td>\n",
       "      <td>38.0</td>\n",
       "      <td>1</td>\n",
       "      <td>0</td>\n",
       "      <td>PC 17599</td>\n",
       "      <td>71.2833</td>\n",
       "      <td>C85</td>\n",
       "      <td>C</td>\n",
       "    </tr>\n",
       "    <tr>\n",
       "      <th>2</th>\n",
       "      <td>3</td>\n",
       "      <td>1</td>\n",
       "      <td>3</td>\n",
       "      <td>Heikkinen, Miss. Laina</td>\n",
       "      <td>female</td>\n",
       "      <td>26.0</td>\n",
       "      <td>0</td>\n",
       "      <td>0</td>\n",
       "      <td>STON/O2. 3101282</td>\n",
       "      <td>7.9250</td>\n",
       "      <td>None</td>\n",
       "      <td>S</td>\n",
       "    </tr>\n",
       "    <tr>\n",
       "      <th>3</th>\n",
       "      <td>4</td>\n",
       "      <td>1</td>\n",
       "      <td>1</td>\n",
       "      <td>Futrelle, Mrs. Jacques Heath (Lily May Peel)</td>\n",
       "      <td>female</td>\n",
       "      <td>35.0</td>\n",
       "      <td>1</td>\n",
       "      <td>0</td>\n",
       "      <td>113803</td>\n",
       "      <td>53.1000</td>\n",
       "      <td>C123</td>\n",
       "      <td>S</td>\n",
       "    </tr>\n",
       "    <tr>\n",
       "      <th>4</th>\n",
       "      <td>5</td>\n",
       "      <td>0</td>\n",
       "      <td>3</td>\n",
       "      <td>Allen, Mr. William Henry</td>\n",
       "      <td>male</td>\n",
       "      <td>35.0</td>\n",
       "      <td>0</td>\n",
       "      <td>0</td>\n",
       "      <td>373450</td>\n",
       "      <td>8.0500</td>\n",
       "      <td>None</td>\n",
       "      <td>S</td>\n",
       "    </tr>\n",
       "  </tbody>\n",
       "</table>\n",
       "</div>"
      ],
      "text/plain": [
       "   PassengerId  Survived  Pclass  \\\n",
       "0            1         0       3   \n",
       "1            2         1       1   \n",
       "2            3         1       3   \n",
       "3            4         1       1   \n",
       "4            5         0       3   \n",
       "\n",
       "                                                Name     Sex   Age  SibSp  \\\n",
       "0                            Braund, Mr. Owen Harris    male  22.0      1   \n",
       "1  Cumings, Mrs. John Bradley (Florence Briggs Th...  female  38.0      1   \n",
       "2                             Heikkinen, Miss. Laina  female  26.0      0   \n",
       "3       Futrelle, Mrs. Jacques Heath (Lily May Peel)  female  35.0      1   \n",
       "4                           Allen, Mr. William Henry    male  35.0      0   \n",
       "\n",
       "   Parch            Ticket     Fare Cabin Embarked  \n",
       "0      0         A/5 21171   7.2500  None        S  \n",
       "1      0          PC 17599  71.2833   C85        C  \n",
       "2      0  STON/O2. 3101282   7.9250  None        S  \n",
       "3      0            113803  53.1000  C123        S  \n",
       "4      0            373450   8.0500  None        S  "
      ]
     },
     "metadata": {},
     "execution_count": 4
    }
   ],
   "metadata": {}
  },
  {
   "cell_type": "code",
   "execution_count": 5,
   "source": [
    "df = df.drop_duplicates()"
   ],
   "outputs": [],
   "metadata": {}
  },
  {
   "cell_type": "code",
   "execution_count": 13,
   "source": [
    "train = pd.get_dummies(df, columns=[\"Sex\",\"Embarked\",\"Cabin\"], drop_first=True)\n",
    "train = train.fillna(0)\n",
    "X_train = train.drop([\"Survived\",\"PassengerId\",\"Name\",\"Ticket\"],axis=1).values\n",
    "y_train = train[\"Survived\"].values"
   ],
   "outputs": [],
   "metadata": {}
  },
  {
   "cell_type": "code",
   "execution_count": 7,
   "source": [
    "from sklearn.preprocessing import StandardScaler\n",
    "X_train = StandardScaler().fit_transform(X_train)"
   ],
   "outputs": [],
   "metadata": {}
  },
  {
   "cell_type": "code",
   "execution_count": 14,
   "source": [
    "X_train.shape"
   ],
   "outputs": [
    {
     "output_type": "execute_result",
     "data": {
      "text/plain": [
       "(891, 154)"
      ]
     },
     "metadata": {},
     "execution_count": 14
    }
   ],
   "metadata": {}
  },
  {
   "cell_type": "code",
   "execution_count": 15,
   "source": [
    "\n",
    "from tensorflow.keras.models import Sequential\n",
    "from tensorflow.keras.layers import Dense, Dropout\n",
    "from tensorflow.keras.optimizers import SGD\n",
    "\n",
    "model = Sequential()\n",
    "\n",
    "model.add(Dense(18, activation='relu', input_dim=154, kernel_initializer='uniform'))\n",
    "model.add(Dropout(0.50))\n",
    "model.add(Dense(60, kernel_initializer='uniform', activation='relu'))\n",
    "model.add(Dropout(0.50))\n",
    "model.add(Dense(1, kernel_initializer='uniform', activation='sigmoid'))\n",
    "\n",
    "model.summary()"
   ],
   "outputs": [
    {
     "output_type": "stream",
     "name": "stdout",
     "text": [
      "Model: \"sequential_1\"\n",
      "_________________________________________________________________\n",
      "Layer (type)                 Output Shape              Param #   \n",
      "=================================================================\n",
      "dense_3 (Dense)              (None, 18)                2790      \n",
      "_________________________________________________________________\n",
      "dropout_2 (Dropout)          (None, 18)                0         \n",
      "_________________________________________________________________\n",
      "dense_4 (Dense)              (None, 60)                1140      \n",
      "_________________________________________________________________\n",
      "dropout_3 (Dropout)          (None, 60)                0         \n",
      "_________________________________________________________________\n",
      "dense_5 (Dense)              (None, 1)                 61        \n",
      "=================================================================\n",
      "Total params: 3,991\n",
      "Trainable params: 3,991\n",
      "Non-trainable params: 0\n",
      "_________________________________________________________________\n"
     ]
    }
   ],
   "metadata": {}
  },
  {
   "cell_type": "code",
   "execution_count": 16,
   "source": [
    "#Creating an Stochastic Gradient Descent\n",
    "sgd = SGD(lr = 0.01, momentum = 0.9)\n",
    "\n",
    "# Compiling our model\n",
    "model.compile(optimizer = sgd,  loss = 'binary_crossentropy',  metrics = ['accuracy'])\n",
    "\n",
    "# Fitting the ANN to the Training set\n",
    "model.fit(X_train, y_train, batch_size = 60, epochs = 30, verbose=1)"
   ],
   "outputs": [
    {
     "output_type": "stream",
     "name": "stdout",
     "text": [
      "Epoch 1/30\n",
      "15/15 [==============================] - 0s 917us/step - loss: 0.6899 - accuracy: 0.6004\n",
      "Epoch 2/30\n",
      "15/15 [==============================] - 0s 1ms/step - loss: 0.6700 - accuracy: 0.6543\n",
      "Epoch 3/30\n",
      "15/15 [==============================] - 0s 903us/step - loss: 0.6557 - accuracy: 0.6498\n",
      "Epoch 4/30\n",
      "15/15 [==============================] - 0s 3ms/step - loss: 0.6499 - accuracy: 0.6622\n",
      "Epoch 5/30\n",
      "15/15 [==============================] - 0s 1ms/step - loss: 0.6396 - accuracy: 0.6611\n",
      "Epoch 6/30\n",
      "15/15 [==============================] - 0s 992us/step - loss: 0.6359 - accuracy: 0.6633\n",
      "Epoch 7/30\n",
      "15/15 [==============================] - 0s 1ms/step - loss: 0.6370 - accuracy: 0.6577\n",
      "Epoch 8/30\n",
      "15/15 [==============================] - 0s 1ms/step - loss: 0.6415 - accuracy: 0.6465\n",
      "Epoch 9/30\n",
      "15/15 [==============================] - 0s 1ms/step - loss: 0.6371 - accuracy: 0.6476\n",
      "Epoch 10/30\n",
      "15/15 [==============================] - 0s 927us/step - loss: 0.6420 - accuracy: 0.6644\n",
      "Epoch 11/30\n",
      "15/15 [==============================] - 0s 973us/step - loss: 0.6287 - accuracy: 0.6611\n",
      "Epoch 12/30\n",
      "15/15 [==============================] - 0s 978us/step - loss: 0.6271 - accuracy: 0.6723\n",
      "Epoch 13/30\n",
      "15/15 [==============================] - 0s 1ms/step - loss: 0.6276 - accuracy: 0.6599\n",
      "Epoch 14/30\n",
      "15/15 [==============================] - 0s 1ms/step - loss: 0.6343 - accuracy: 0.6644\n",
      "Epoch 15/30\n",
      "15/15 [==============================] - 0s 1ms/step - loss: 0.6270 - accuracy: 0.6588\n",
      "Epoch 16/30\n",
      "15/15 [==============================] - 0s 933us/step - loss: 0.6291 - accuracy: 0.6678\n",
      "Epoch 17/30\n",
      "15/15 [==============================] - 0s 1ms/step - loss: 0.6300 - accuracy: 0.6577\n",
      "Epoch 18/30\n",
      "15/15 [==============================] - 0s 870us/step - loss: 0.6340 - accuracy: 0.6577\n",
      "Epoch 19/30\n",
      "15/15 [==============================] - 0s 1ms/step - loss: 0.6267 - accuracy: 0.6700\n",
      "Epoch 20/30\n",
      "15/15 [==============================] - 0s 979us/step - loss: 0.6314 - accuracy: 0.6599\n",
      "Epoch 21/30\n",
      "15/15 [==============================] - 0s 984us/step - loss: 0.6247 - accuracy: 0.6611\n",
      "Epoch 22/30\n",
      "15/15 [==============================] - 0s 1ms/step - loss: 0.6340 - accuracy: 0.6543\n",
      "Epoch 23/30\n",
      "15/15 [==============================] - 0s 1ms/step - loss: 0.6169 - accuracy: 0.6622\n",
      "Epoch 24/30\n",
      "15/15 [==============================] - 0s 864us/step - loss: 0.6253 - accuracy: 0.6633\n",
      "Epoch 25/30\n",
      "15/15 [==============================] - 0s 989us/step - loss: 0.6270 - accuracy: 0.6409\n",
      "Epoch 26/30\n",
      "15/15 [==============================] - 0s 1ms/step - loss: 0.6299 - accuracy: 0.6554\n",
      "Epoch 27/30\n",
      "15/15 [==============================] - 0s 1ms/step - loss: 0.6266 - accuracy: 0.6521\n",
      "Epoch 28/30\n",
      "15/15 [==============================] - 0s 1ms/step - loss: 0.6277 - accuracy: 0.6622\n",
      "Epoch 29/30\n",
      "15/15 [==============================] - 0s 934us/step - loss: 0.6293 - accuracy: 0.6498\n",
      "Epoch 30/30\n",
      "15/15 [==============================] - 0s 1ms/step - loss: 0.6304 - accuracy: 0.6712\n"
     ]
    },
    {
     "output_type": "execute_result",
     "data": {
      "text/plain": [
       "<keras.callbacks.History at 0x169bea9a0>"
      ]
     },
     "metadata": {},
     "execution_count": 16
    }
   ],
   "metadata": {}
  },
  {
   "cell_type": "code",
   "execution_count": 17,
   "source": [
    "scores = model.evaluate(X_train, y_train, batch_size=30)\n",
    "print(\"%s: %.2f%%\" % (model.metrics_names[1], scores[1]*100))"
   ],
   "outputs": [
    {
     "output_type": "stream",
     "name": "stdout",
     "text": [
      "30/30 [==============================] - 0s 717us/step - loss: 0.6187 - accuracy: 0.6554\n",
      "accuracy: 65.54%\n"
     ]
    }
   ],
   "metadata": {}
  },
  {
   "cell_type": "code",
   "execution_count": 12,
   "source": [
    "X_train.shape[1]"
   ],
   "outputs": [
    {
     "output_type": "execute_result",
     "data": {
      "text/plain": [
       "154"
      ]
     },
     "metadata": {},
     "execution_count": 12
    }
   ],
   "metadata": {}
  }
 ],
 "metadata": {
  "kernelspec": {
   "name": "python3",
   "display_name": "Python 3.8.2 64-bit ('packt-repo-M2qY5kM-': pipenv)"
  },
  "language_info": {
   "codemirror_mode": {
    "name": "ipython",
    "version": 3
   },
   "file_extension": ".py",
   "mimetype": "text/x-python",
   "name": "python",
   "nbconvert_exporter": "python",
   "pygments_lexer": "ipython3",
   "version": "3.8.2"
  },
  "interpreter": {
   "hash": "c39ce73b6d48f343ffd00681afb9b3f63104480cfaffe0ebb445fe41a6801158"
  }
 },
 "nbformat": 4,
 "nbformat_minor": 4
}