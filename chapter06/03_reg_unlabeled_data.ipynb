{
 "cells": [
  {
   "cell_type": "markdown",
   "metadata": {},
   "source": [
    "# Loading Images directly into a Dataset"
   ]
  },
  {
   "cell_type": "code",
   "execution_count": null,
   "metadata": {},
   "outputs": [],
   "source": [
    "from azureml.core import Workspace\n",
    "ws = Workspace.from_config()"
   ]
  },
  {
   "cell_type": "code",
   "execution_count": null,
   "metadata": {},
   "outputs": [],
   "source": [
    "from azureml.core import Datastore, Dataset\n",
    "from azureml.data.datapath import DataPath\n",
    "\n",
    "\n",
    "# retrieve an existing datastore in the workspace by name\n",
    "datastore_name = 'mldemoblob'\n",
    "datastore = Datastore.get(ws, datastore_name)\n",
    "\n",
    "file_ds = Dataset.File.upload_directory(src_dir='./images',\n",
    "                                        target=DataPath(datastore,  'mldata/STL10_unlabelled'),\n",
    "                                        show_progress=True)\n"
   ]
  },
  {
   "cell_type": "code",
   "execution_count": null,
   "metadata": {},
   "outputs": [],
   "source": [
    "file_ds = file_ds.register(workspace=ws,\n",
    "                           name='STL10_unlabeled',\n",
    "                           description='8000 unlabeled STL-10 images')"
   ]
  }
 ],
 "metadata": {
  "interpreter": {
   "hash": "8cf0ba5c97d8213a473c3c3809ce96b11278674036cd7196aea1f6db1086a4f2"
  },
  "kernelspec": {
   "display_name": "Python 3.8.10 64-bit (windows store)",
   "name": "python3"
  },
  "language_info": {
   "codemirror_mode": {
    "name": "ipython",
    "version": 3
   },
   "file_extension": ".py",
   "mimetype": "text/x-python",
   "name": "python",
   "nbconvert_exporter": "python",
   "pygments_lexer": "ipython3",
   "version": "3.8.10"
  },
  "orig_nbformat": 4
 },
 "nbformat": 4,
 "nbformat_minor": 2
}
