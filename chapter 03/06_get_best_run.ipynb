{
 "cells": [
  {
   "cell_type": "code",
   "execution_count": 2,
   "source": [
    "from azureml.core import Workspace, Experiment, Run\r\n",
    "\r\n",
    "# Configure experiment\r\n",
    "ws = Workspace.from_config()\r\n",
    "exp = Experiment(workspace=ws, name=\"cifar10_cnn_local\")"
   ],
   "outputs": [],
   "metadata": {}
  },
  {
   "cell_type": "code",
   "execution_count": 3,
   "source": [
    "def get_metrics_from_exp(experiment, metric, status='Completed'):\r\n",
    "    for run in Run.list(experiment, status=status):\r\n",
    "        yield run.get_metrics().get(metric)\r\n",
    "\r\n",
    "metric_name = 'Test accuracy'\r\n",
    "best_acc = max(get_metrics_from_exp(exp, metric_name), default = 0)\r\n",
    "\r\n",
    "print(best_acc)"
   ],
   "outputs": [
    {
     "output_type": "stream",
     "name": "stdout",
     "text": [
      "0.5335999727249146\n"
     ]
    }
   ],
   "metadata": {}
  },
  {
   "cell_type": "code",
   "execution_count": null,
   "source": [],
   "outputs": [],
   "metadata": {}
  }
 ],
 "metadata": {
  "kernelspec": {
   "name": "python3",
   "display_name": "Python 3.8.10 64-bit"
  },
  "language_info": {
   "codemirror_mode": {
    "name": "ipython",
    "version": 3
   },
   "file_extension": ".py",
   "mimetype": "text/x-python",
   "name": "python",
   "nbconvert_exporter": "python",
   "pygments_lexer": "ipython3",
   "version": "3.8.10"
  },
  "interpreter": {
   "hash": "f2575392019334285e0602a4035eec46b9260ee4c95297ea34ade6e3c8b8fcaf"
  }
 },
 "nbformat": 4,
 "nbformat_minor": 4
}