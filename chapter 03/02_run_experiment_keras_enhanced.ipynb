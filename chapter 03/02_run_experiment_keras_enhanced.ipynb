{
 "cells": [
  {
   "cell_type": "code",
   "execution_count": 1,
   "source": [
    "from azureml.core import Workspace, Experiment\r\n",
    "\r\n",
    "ws = Workspace.from_config()\r\n",
    "exp = Experiment(workspace=ws, name=\"cifar10_cnn_local\")"
   ],
   "outputs": [],
   "metadata": {}
  },
  {
   "cell_type": "code",
   "execution_count": 2,
   "source": [
    "import tensorflow\r\n",
    "from tensorflow.keras.datasets import cifar10\r\n",
    "from tensorflow.keras.preprocessing.image import ImageDataGenerator\r\n",
    "from tensorflow.keras.models import Sequential, load_model\r\n",
    "from tensorflow.keras.layers import Dense, Dropout, Activation, Flatten\r\n",
    "from tensorflow.keras.layers import Conv2D, MaxPooling2D\r\n",
    "from tensorflow.keras.callbacks import ModelCheckpoint\r\n",
    "from tensorflow.keras.optimizers import RMSprop\r\n",
    "import os\r\n",
    "\r\n",
    "# Keras settings\r\n",
    "batch_size = 32\r\n",
    "num_classes = 10\r\n",
    "epochs = 5\r\n",
    "num_predictions = 20\r\n",
    "\r\n",
    "# the data split between train and test sets\r\n",
    "(x_train, y_train), (x_test, y_test) = cifar10.load_data()\r\n",
    "print('x_train shape:', x_train.shape)\r\n",
    "print(x_train.shape[0], 'train samples')\r\n",
    "print(x_test.shape[0], 'test samples')\r\n",
    "\r\n",
    "# convert class vectors to binary class matrices\r\n",
    "y_train = tensorflow.keras.utils.to_categorical(y_train, num_classes)\r\n",
    "y_test = tensorflow.keras.utils.to_categorical(y_test, num_classes)\r\n",
    "\r\n",
    "x_train = x_train.astype('float32')\r\n",
    "x_test = x_test.astype('float32')\r\n",
    "x_train /= 255\r\n",
    "x_test /= 255\r\n",
    "\r\n",
    "# define the model type \r\n",
    "model = Sequential()\r\n",
    "model.add(Conv2D(32, (3, 3), input_shape=x_train.shape[1:]))\r\n",
    "model.add(Activation('relu'))\r\n",
    "model.add(MaxPooling2D(pool_size=(2, 2)))\r\n",
    "model.add(Dropout(0.25))\r\n",
    "\r\n",
    "model.add(Conv2D(64, (3, 3)))\r\n",
    "model.add(Activation('relu'))\r\n",
    "model.add(MaxPooling2D(pool_size=(2, 2)))\r\n",
    "model.add(Dropout(0.25))\r\n",
    "\r\n",
    "model.add(Flatten())\r\n",
    "model.add(Dense(128))\r\n",
    "model.add(Activation('relu'))\r\n",
    "model.add(Dropout(0.5))\r\n",
    "model.add(Dense(num_classes))\r\n",
    "model.add(Activation('softmax'))\r\n",
    "\r\n",
    "# define model name and file locations\r\n",
    "model_name = 'keras_cifar10_trained_model.h5'\r\n",
    "model_output_dir = os.path.join(os.getcwd(), 'outputs')\r\n",
    "\r\n",
    "# initiate RMSprop optimizer (https://keras.io/api/optimizers/rmsprop/)\r\n",
    "opt = RMSprop(learning_rate=0.0001, decay=1e-6)\r\n",
    "\r\n",
    "# define checkpoint function to only save the model after each epoch if it is \"better\"\r\n",
    "# (decided based on the validation loss function) in the output file path\r\n",
    "if not os.path.isdir(model_output_dir):\r\n",
    "    os.makedirs(model_output_dir)\r\n",
    "model_path = os.path.join(model_output_dir, model_name)\r\n",
    "checkpoint_cb = ModelCheckpoint(model_path, monitor='val_loss', save_best_only=True)\r\n",
    "\r\n",
    "# define the loss function, optimizer and additionally tracked metrics of the model training\r\n",
    "# (https://keras.io/api/losses/probabilistic_losses/#categoricalcrossentropy-class)\r\n",
    "model.compile(loss='categorical_crossentropy',\r\n",
    "              optimizer=opt,\r\n",
    "              metrics=['accuracy'])"
   ],
   "outputs": [
    {
     "output_type": "stream",
     "name": "stdout",
     "text": [
      "x_train shape: (50000, 32, 32, 3)\n",
      "50000 train samples\n",
      "10000 test samples\n"
     ]
    }
   ],
   "metadata": {}
  },
  {
   "cell_type": "code",
   "execution_count": 3,
   "source": [
    "from azureml.core import Run\r\n",
    "\r\n",
    "# define function to get the best value of a specific metric of all runs in the experiment\r\n",
    "def get_metrics_from_exp(experiment, metric, status='Completed'):\r\n",
    "    for run in Run.list(exp, status=status):\r\n",
    "        yield run.get_metrics().get(metric)\r\n",
    "\r\n",
    "# import callback python script from code folder\r\n",
    "from code.keras_azure_ml_cb import AzureMlKerasCallback"
   ],
   "outputs": [],
   "metadata": {}
  },
  {
   "cell_type": "code",
   "execution_count": 4,
   "source": [
    "# Create a run\r\n",
    "with exp.start_logging(snapshot_directory='.') as run:\r\n",
    "\r\n",
    "    # create an Azure Machine Learning monitor callback\r\n",
    "    azureml_cb = AzureMlKerasCallback(run)\r\n",
    "\r\n",
    "    # train the model for a certain number of epochs\r\n",
    "    model.fit(x_train, y_train,\r\n",
    "            batch_size=batch_size,\r\n",
    "            epochs=epochs,\r\n",
    "            validation_split = 0.2,\r\n",
    "            shuffle=True,\r\n",
    "            callbacks=[azureml_cb, checkpoint_cb])\r\n",
    "\r\n",
    "    # load the overall best model of all epochs into the model object\r\n",
    "    model = load_model(model_path)\r\n",
    "\r\n",
    "    # evaluate the best model against the test dataset and log them to Azure ML\r\n",
    "    scores = model.evaluate(x_test, y_test, verbose=1)\r\n",
    "    print('Test loss of best model:', scores[0])\r\n",
    "    run.log('Test loss', scores[0])\r\n",
    "    print('Test accuracy of best model:', scores[1])\r\n",
    "    run.log('Test accuracy', scores[1])\r\n",
    "\r\n",
    "    # Upload the model binary file(s) of the best model\r\n",
    "    run.upload_file(model_name, model_path)\r\n",
    "    \r\n",
    "    # get the best accuracy out of every run before\r\n",
    "    best_test_acc = max(get_metrics_from_exp(exp,'Test accuracy'), default = 0)\r\n",
    "\r\n",
    "    # Register the best model if it is better than in any previous model training\r\n",
    "    if scores[1] > best_test_acc:\r\n",
    "        run.register_model(model_name, model_path=model_name, model_framework='TfKeras')\r\n"
   ],
   "outputs": [
    {
     "output_type": "stream",
     "name": "stdout",
     "text": [
      "Epoch 1/5\n",
      "1250/1250 [==============================] - 35s 27ms/step - loss: 2.0256 - accuracy: 0.2549 - val_loss: 1.7789 - val_accuracy: 0.3891\n",
      "{'loss': 2.0255565643310547, 'accuracy': 0.2549000084400177, 'val_loss': 1.7789394855499268, 'val_accuracy': 0.38909998536109924}\n",
      "Epoch 2/5\n",
      "1250/1250 [==============================] - 28s 22ms/step - loss: 1.7394 - accuracy: 0.3672 - val_loss: 1.6349 - val_accuracy: 0.4361\n",
      "{'loss': 1.7394285202026367, 'accuracy': 0.36717501282691956, 'val_loss': 1.6348884105682373, 'val_accuracy': 0.4361000061035156}\n",
      "Epoch 3/5\n",
      "1250/1250 [==============================] - 29s 24ms/step - loss: 1.6210 - accuracy: 0.4117 - val_loss: 1.5024 - val_accuracy: 0.4763\n",
      "{'loss': 1.6209977865219116, 'accuracy': 0.4117499887943268, 'val_loss': 1.5024200677871704, 'val_accuracy': 0.4763000011444092}\n",
      "Epoch 4/5\n",
      "1250/1250 [==============================] - 30s 24ms/step - loss: 1.5346 - accuracy: 0.4430 - val_loss: 1.4340 - val_accuracy: 0.5025\n",
      "{'loss': 1.5345698595046997, 'accuracy': 0.4429750144481659, 'val_loss': 1.4340474605560303, 'val_accuracy': 0.5024999976158142}\n",
      "Epoch 5/5\n",
      "1250/1250 [==============================] - 30s 24ms/step - loss: 1.4794 - accuracy: 0.4676 - val_loss: 1.3964 - val_accuracy: 0.5141\n",
      "{'loss': 1.4793639183044434, 'accuracy': 0.4676249921321869, 'val_loss': 1.396376609802246, 'val_accuracy': 0.5141000151634216}\n",
      "313/313 [==============================] - 2s 5ms/step - loss: 1.3812 - accuracy: 0.5137\n",
      "Test loss: 1.3812243938446045\n",
      "Test accuracy: 0.513700008392334\n"
     ]
    },
    {
     "output_type": "stream",
     "name": "stderr",
     "text": [
      "Tfkeras will be deprecated soon. Use Model.Framework.TENSORFLOW instead.\n"
     ]
    }
   ],
   "metadata": {}
  },
  {
   "cell_type": "code",
   "execution_count": null,
   "source": [],
   "outputs": [],
   "metadata": {}
  }
 ],
 "metadata": {
  "kernelspec": {
   "name": "python3",
   "display_name": "Python 3.8.10 64-bit"
  },
  "language_info": {
   "codemirror_mode": {
    "name": "ipython",
    "version": 3
   },
   "file_extension": ".py",
   "mimetype": "text/x-python",
   "name": "python",
   "nbconvert_exporter": "python",
   "pygments_lexer": "ipython3",
   "version": "3.8.10"
  },
  "interpreter": {
   "hash": "f2575392019334285e0602a4035eec46b9260ee4c95297ea34ade6e3c8b8fcaf"
  }
 },
 "nbformat": 4,
 "nbformat_minor": 4
}