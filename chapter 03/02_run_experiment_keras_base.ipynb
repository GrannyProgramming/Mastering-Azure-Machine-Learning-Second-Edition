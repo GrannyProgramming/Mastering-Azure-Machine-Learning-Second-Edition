{
 "cells": [
  {
   "cell_type": "code",
   "execution_count": 10,
   "source": [
    "from azureml.core import Workspace, Experiment\r\n",
    "\r\n",
    "ws = Workspace.from_config()\r\n",
    "exp = Experiment(workspace=ws, name=\"cifar10_cnn_local\")"
   ],
   "outputs": [],
   "metadata": {}
  },
  {
   "cell_type": "code",
   "execution_count": 11,
   "source": [
    "import tensorflow\r\n",
    "from tensorflow.keras.datasets import cifar10\r\n",
    "from tensorflow.keras.preprocessing.image import ImageDataGenerator\r\n",
    "from tensorflow.keras.models import Sequential, load_model\r\n",
    "from tensorflow.keras.layers import Dense, Dropout, Activation, Flatten\r\n",
    "from tensorflow.keras.layers import Conv2D, MaxPooling2D\r\n",
    "from tensorflow.keras.callbacks import ModelCheckpoint\r\n",
    "from tensorflow.keras.optimizers import RMSprop\r\n",
    "import os\r\n",
    "\r\n",
    "# Keras settings\r\n",
    "batch_size = 32\r\n",
    "num_classes = 10\r\n",
    "epochs = 5\r\n",
    "num_predictions = 20\r\n",
    "\r\n",
    "# the data split between train and test sets\r\n",
    "(x_train, y_train), (x_test, y_test) = cifar10.load_data()\r\n",
    "print('x_train shape:', x_train.shape)\r\n",
    "print(x_train.shape[0], 'train samples')\r\n",
    "print(x_test.shape[0], 'test samples')\r\n",
    "\r\n",
    "# convert class vectors to binary class matrices\r\n",
    "y_train = tensorflow.keras.utils.to_categorical(y_train, num_classes)\r\n",
    "y_test = tensorflow.keras.utils.to_categorical(y_test, num_classes)\r\n",
    "\r\n",
    "x_train = x_train.astype('float32')\r\n",
    "x_test = x_test.astype('float32')\r\n",
    "x_train /= 255\r\n",
    "x_test /= 255\r\n",
    "\r\n",
    "# defining our model \r\n",
    "model = Sequential()\r\n",
    "model.add(Conv2D(32, (3, 3), input_shape=x_train.shape[1:]))\r\n",
    "model.add(Activation('relu'))\r\n",
    "model.add(MaxPooling2D(pool_size=(2, 2)))\r\n",
    "model.add(Dropout(0.25))\r\n",
    "\r\n",
    "model.add(Conv2D(64, (3, 3)))\r\n",
    "model.add(Activation('relu'))\r\n",
    "model.add(MaxPooling2D(pool_size=(2, 2)))\r\n",
    "model.add(Dropout(0.25))\r\n",
    "\r\n",
    "model.add(Flatten())\r\n",
    "model.add(Dense(128))\r\n",
    "model.add(Activation('relu'))\r\n",
    "model.add(Dropout(0.5))\r\n",
    "model.add(Dense(num_classes))\r\n",
    "model.add(Activation('softmax'))\r\n",
    "\r\n",
    "# define model name and file locations\r\n",
    "model_name = 'keras_cifar10_trained_model.h5'\r\n",
    "model_output_dir = os.path.join(os.getcwd(), 'outputs')\r\n",
    "\r\n",
    "# initiate RMSprop optimizer (https://keras.io/api/optimizers/rmsprop/)\r\n",
    "opt = RMSprop(learning_rate=0.0001, decay=1e-6)\r\n",
    "\r\n",
    "# define checkpoint function to only save the model after each epoch if it is \"better\"\r\n",
    "# (decided based on the validation loss function) in the output file path\r\n",
    "if not os.path.isdir(model_output_dir):\r\n",
    "    os.makedirs(model_output_dir)\r\n",
    "model_path = os.path.join(model_output_dir, model_name)\r\n",
    "checkpoint_cb = ModelCheckpoint(model_path, monitor='val_loss', save_best_only=True)\r\n",
    "\r\n",
    "# define the loss function, optimizer and additionally tracked metrics of the model training\r\n",
    "# (https://keras.io/api/losses/probabilistic_losses/#categoricalcrossentropy-class)\r\n",
    "model.compile(loss='categorical_crossentropy',\r\n",
    "              optimizer=opt,\r\n",
    "              metrics=['accuracy'])"
   ],
   "outputs": [
    {
     "output_type": "stream",
     "name": "stdout",
     "text": [
      "x_train shape: (50000, 32, 32, 3)\n",
      "50000 train samples\n",
      "10000 test samples\n"
     ]
    }
   ],
   "metadata": {}
  },
  {
   "cell_type": "code",
   "execution_count": 12,
   "source": [
    "# Create a run\r\n",
    "with exp.start_logging(snapshot_directory='.') as run:\r\n",
    "\r\n",
    "    # train the model for a certain number of epochs\r\n",
    "    model.fit(x_train, y_train,\r\n",
    "            batch_size=batch_size,\r\n",
    "            epochs=epochs,\r\n",
    "            validation_split= 0.2,\r\n",
    "            shuffle=True,\r\n",
    "            callbacks=[checkpoint_cb])\r\n",
    "    \r\n",
    "    # Upload the best model\r\n",
    "    run.upload_file(model_name, model_path)\r\n",
    "    # Register the best model\r\n",
    "    run.register_model(model_name, model_path=model_name, model_framework='TfKeras')"
   ],
   "outputs": [
    {
     "output_type": "stream",
     "name": "stdout",
     "text": [
      "Epoch 1/5\n",
      "1563/1563 [==============================] - 28s 18ms/step - loss: 2.0168 - accuracy: 0.2604 - val_loss: 1.7861 - val_accuracy: 0.3862\n",
      "Epoch 2/5\n",
      "1563/1563 [==============================] - 28s 18ms/step - loss: 1.7350 - accuracy: 0.3733 - val_loss: 1.6116 - val_accuracy: 0.4395\n",
      "Epoch 3/5\n",
      "1563/1563 [==============================] - 29s 18ms/step - loss: 1.6008 - accuracy: 0.4214 - val_loss: 1.4777 - val_accuracy: 0.4916\n",
      "Epoch 4/5\n",
      "1563/1563 [==============================] - 28s 18ms/step - loss: 1.5125 - accuracy: 0.4553 - val_loss: 1.3919 - val_accuracy: 0.5194\n",
      "Epoch 5/5\n",
      "1563/1563 [==============================] - 30s 19ms/step - loss: 1.4527 - accuracy: 0.4787 - val_loss: 1.3318 - val_accuracy: 0.5336\n",
      "313/313 [==============================] - 2s 6ms/step - loss: 1.3318 - accuracy: 0.5336\n",
      "Test loss: 1.3318021297454834\n",
      "Test accuracy: 0.5335999727249146\n"
     ]
    },
    {
     "output_type": "stream",
     "name": "stderr",
     "text": [
      "Tfkeras will be deprecated soon. Use Model.Framework.TENSORFLOW instead.\n"
     ]
    }
   ],
   "metadata": {}
  },
  {
   "cell_type": "code",
   "execution_count": null,
   "source": [],
   "outputs": [],
   "metadata": {}
  }
 ],
 "metadata": {
  "kernelspec": {
   "name": "python3",
   "display_name": "Python 3.8.10 64-bit"
  },
  "language_info": {
   "codemirror_mode": {
    "name": "ipython",
    "version": 3
   },
   "file_extension": ".py",
   "mimetype": "text/x-python",
   "name": "python",
   "nbconvert_exporter": "python",
   "pygments_lexer": "ipython3",
   "version": "3.8.10"
  },
  "interpreter": {
   "hash": "f2575392019334285e0602a4035eec46b9260ee4c95297ea34ade6e3c8b8fcaf"
  }
 },
 "nbformat": 4,
 "nbformat_minor": 4
}