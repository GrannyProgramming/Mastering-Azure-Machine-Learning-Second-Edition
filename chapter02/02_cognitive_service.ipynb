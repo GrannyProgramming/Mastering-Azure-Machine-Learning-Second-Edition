{
 "cells": [
  {
   "cell_type": "code",
   "execution_count": 48,
   "source": [
    "import requests\n",
    "\n",
    "region='westeurope'\n",
    "language='en'\n",
    "version='v3.1'\n",
    "key = '9036cb2b0c0548f2a1ee49baffe5369e'\n",
    "\n",
    "url = \"https://{region}.api.cognitive.microsoft.com/vision/{version}/analyze\".format(\\\n",
    "    region=region, version=version)\n",
    "\n",
    "params = {\n",
    "    'visualFeatures': 'Categories,Tags,Description',\n",
    "    'language': language\n",
    "}\n",
    "headers = {\n",
    "    'Content-Type': 'application/json',\n",
    "    'Ocp-Apim-Subscription-Key': key\n",
    "}\n",
    "payload = {\n",
    "    'url': 'https://live.staticflickr.com/5633/23083197682_cd8910f875_k.jpg'\n",
    "}\n",
    "response = requests.post(url, json=payload, params=params, headers=headers)\n",
    "result = response.json()\n",
    "result"
   ],
   "outputs": [
    {
     "output_type": "execute_result",
     "data": {
      "text/plain": [
       "{'categories': [{'name': 'building_',\n",
       "   'score': 0.94921875,\n",
       "   'detail': {'landmarks': [{'name': 'Eiffel Tower',\n",
       "      'confidence': 0.9996175765991211}]}}],\n",
       " 'tags': [{'name': 'outdoor', 'confidence': 0.9998514652252197},\n",
       "  {'name': 'sky', 'confidence': 0.9991111755371094},\n",
       "  {'name': 'building', 'confidence': 0.8920891284942627},\n",
       "  {'name': 'skyscraper', 'confidence': 0.7409036159515381},\n",
       "  {'name': 'cloud', 'confidence': 0.6459722518920898},\n",
       "  {'name': 'tower', 'confidence': 0.1545371413230896},\n",
       "  {'name': 'day', 'confidence': 0.1280536651611328}],\n",
       " 'description': {'tags': ['outdoor', 'sky', 'building', 'tower', 'day'],\n",
       "  'captions': [{'text': 'a large tower with a crowd of people around it with Eiffel Tower in the background',\n",
       "    'confidence': 0.43519318103790283}]},\n",
       " 'requestId': 'b232b4d9-c3f9-4b75-8dbc-c5e63dbc73b6',\n",
       " 'metadata': {'height': 1365, 'width': 2048, 'format': 'Jpeg'}}"
      ]
     },
     "metadata": {},
     "execution_count": 48
    }
   ],
   "metadata": {}
  },
  {
   "cell_type": "code",
   "execution_count": 44,
   "source": [
    "EP = \"https://{region}.api.cognitive.microsoft.com/vision/{version}/analyze\"\n",
    "\n",
    "def analyze(url, key, features=[], region='westus', language='en', version='v3.1'):\n",
    "    req_url = EP.format(region=region, version=version)\n",
    "    headers = {\n",
    "        'Content-Type': 'application/json',\n",
    "        'Ocp-Apim-Subscription-Key': key\n",
    "    }\n",
    "    params = {\n",
    "        'visualFeatures': ','.join(features),\n",
    "        'language': language\n",
    "        }\n",
    "    payload = {\n",
    "        'url': url\n",
    "    }\n",
    "    response = requests.post(req_url, json=payload, params=params, headers=headers)\n",
    "    return response.json()\n",
    "\n",
    "features = ['Categories', 'Tags', 'Description']\n",
    "url = 'https://live.staticflickr.com/5633/23083197682_cd8910f875_k.jpg'\n",
    "res = analyze(url, key, features=features, region=region)\n",
    "res"
   ],
   "outputs": [
    {
     "output_type": "execute_result",
     "data": {
      "text/plain": [
       "{'categories': [{'name': 'building_',\n",
       "   'score': 0.94921875,\n",
       "   'detail': {'landmarks': [{'name': 'Eiffel Tower',\n",
       "      'confidence': 0.9996175765991211}]}}],\n",
       " 'tags': [{'name': 'outdoor', 'confidence': 0.999851405620575},\n",
       "  {'name': 'sky', 'confidence': 0.9991111159324646},\n",
       "  {'name': 'building', 'confidence': 0.8920891880989075},\n",
       "  {'name': 'skyscraper', 'confidence': 0.7409036159515381},\n",
       "  {'name': 'cloud', 'confidence': 0.6459722518920898},\n",
       "  {'name': 'tower', 'confidence': 0.15453723073005676},\n",
       "  {'name': 'day', 'confidence': 0.12805378437042236}],\n",
       " 'description': {'tags': ['outdoor', 'sky', 'building', 'tower', 'day'],\n",
       "  'captions': [{'text': 'a large tower with a crowd of people around it with Eiffel Tower in the background',\n",
       "    'confidence': 0.43519341945648193}]},\n",
       " 'requestId': '21f7c397-df2e-4b4b-98ef-1d8b281829cd',\n",
       " 'metadata': {'height': 1365, 'width': 2048, 'format': 'Jpeg'}}"
      ]
     },
     "metadata": {},
     "execution_count": 44
    }
   ],
   "metadata": {}
  },
  {
   "cell_type": "code",
   "execution_count": 45,
   "source": [
    "product_image_urls = [url]\n",
    "\n",
    "for url in product_image_urls:\n",
    "    res = analyze(url, key, features=['Description'], region=region)\n",
    "    caption = res['description']['captions'][0]['text']\n",
    "    # now store the caption for each image\n",
    "    print(caption)"
   ],
   "outputs": [
    {
     "output_type": "stream",
     "name": "stdout",
     "text": [
      "a large tower with a crowd of people around it with Eiffel Tower in the background\n"
     ]
    }
   ],
   "metadata": {}
  },
  {
   "cell_type": "code",
   "execution_count": null,
   "source": [],
   "outputs": [],
   "metadata": {}
  }
 ],
 "metadata": {
  "kernelspec": {
   "name": "python3",
   "display_name": "Python 3.8.2 64-bit ('packt-repo-M2qY5kM-': pipenv)"
  },
  "language_info": {
   "codemirror_mode": {
    "name": "ipython",
    "version": 3
   },
   "file_extension": ".py",
   "mimetype": "text/x-python",
   "name": "python",
   "nbconvert_exporter": "python",
   "pygments_lexer": "ipython3",
   "version": "3.8.2"
  },
  "interpreter": {
   "hash": "c39ce73b6d48f343ffd00681afb9b3f63104480cfaffe0ebb445fe41a6801158"
  }
 },
 "nbformat": 4,
 "nbformat_minor": 4
}