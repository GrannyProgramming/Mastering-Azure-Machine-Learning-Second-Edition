{
 "cells": [
  {
   "cell_type": "code",
   "execution_count": null,
   "metadata": {},
   "outputs": [],
   "source": [
    "import requests\n",
    "\n",
    "region='westeurope'\n",
    "language='en'\n",
    "version='v3.1'\n",
    "key = '<enter your CS key here>'\n",
    "\n",
    "url = \"https://{region}.api.cognitive.microsoft.com/vision/{version}/analyze\".format(\\\n",
    "    region=region, version=version)\n",
    "\n",
    "params = {\n",
    "    'visualFeatures': 'Categories,Tags,Description',\n",
    "    'language': language\n",
    "}\n",
    "headers = {\n",
    "    'Content-Type': 'application/json',\n",
    "    'Ocp-Apim-Subscription-Key': key\n",
    "}\n",
    "payload = {\n",
    "    'url': 'https://live.staticflickr.com/5633/23083197682_cd8910f875_k.jpg'\n",
    "}\n",
    "response = requests.post(url, json=payload, params=params, headers=headers)\n",
    "result = response.json()\n",
    "result"
   ]
  },
  {
   "cell_type": "code",
   "execution_count": null,
   "metadata": {},
   "outputs": [],
   "source": [
    "EP = \"https://{region}.api.cognitive.microsoft.com/vision/{version}/analyze\"\n",
    "\n",
    "def analyze(url, key, features=[], region='westus', language='en', version='v3.1'):\n",
    "    req_url = EP.format(region=region, version=version)\n",
    "    headers = {\n",
    "        'Content-Type': 'application/json',\n",
    "        'Ocp-Apim-Subscription-Key': key\n",
    "    }\n",
    "    params = {\n",
    "        'visualFeatures': ','.join(features),\n",
    "        'language': language\n",
    "        }\n",
    "    payload = {\n",
    "        'url': url\n",
    "    }\n",
    "    response = requests.post(req_url, json=payload, params=params, headers=headers)\n",
    "    return response.json()\n",
    "\n",
    "features = ['Categories', 'Tags', 'Description']\n",
    "url = 'https://live.staticflickr.com/5633/23083197682_cd8910f875_k.jpg'\n",
    "res = analyze(url, key, features=features, region=region)\n",
    "res"
   ]
  },
  {
   "cell_type": "code",
   "execution_count": null,
   "metadata": {},
   "outputs": [],
   "source": [
    "product_image_urls = [url]\n",
    "\n",
    "for url in product_image_urls:\n",
    "    res = analyze(url, key, features=['Description'], region=region)\n",
    "    caption = res['description']['captions'][0]['text']\n",
    "    # now store the caption for each image\n",
    "    print(caption)"
   ]
  }
 ],
 "metadata": {
  "interpreter": {
   "hash": "c39ce73b6d48f343ffd00681afb9b3f63104480cfaffe0ebb445fe41a6801158"
  },
  "kernelspec": {
   "display_name": "Python 3.8.2 64-bit ('packt-repo-M2qY5kM-': pipenv)",
   "name": "python3"
  },
  "language_info": {
   "codemirror_mode": {
    "name": "ipython",
    "version": 3
   },
   "file_extension": ".py",
   "mimetype": "text/x-python",
   "name": "python",
   "nbconvert_exporter": "python",
   "pygments_lexer": "ipython3",
   "version": "3.8.2"
  }
 },
 "nbformat": 4,
 "nbformat_minor": 4
}
