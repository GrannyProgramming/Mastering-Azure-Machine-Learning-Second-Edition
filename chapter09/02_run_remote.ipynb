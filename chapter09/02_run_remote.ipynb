{
 "cells": [
  {
   "cell_type": "code",
   "execution_count": null,
   "metadata": {},
   "outputs": [],
   "source": [
    "from azureml.core import Workspace, Experiment\n",
    "\n",
    "# Configure experiment\n",
    "ws = Workspace.from_config()\n",
    "exp = Experiment(workspace=ws, name=\"titanic-lgbm\")"
   ]
  },
  {
   "cell_type": "code",
   "execution_count": null,
   "metadata": {},
   "outputs": [],
   "source": [
    "from azureml.core.compute import ComputeTarget, AmlCompute\n",
    "from azureml.core.compute_target import ComputeTargetException\n",
    "\n",
    "def get_aml_cluster(ws, cluster_name, vm_size='STANDARD_D2_V2', max_nodes=4):\n",
    "    try:\n",
    "        cluster = ComputeTarget(workspace=ws, name=cluster_name)\n",
    "    except ComputeTargetException:\n",
    "        config = AmlCompute.provisioning_configuration(vm_size=vm_size, max_nodes=max_nodes)\n",
    "        cluster = ComputeTarget.create(ws, cluster_name, config)\n",
    "    return cluster"
   ]
  },
  {
   "cell_type": "code",
   "execution_count": null,
   "metadata": {},
   "outputs": [],
   "source": [
    "# Create or get training cluster\n",
    "aml_cluster = get_aml_cluster(ws, cluster_name=\"cpu-cluster\")\n",
    "aml_cluster.wait_for_completion(show_output=True)"
   ]
  },
  {
   "cell_type": "code",
   "execution_count": null,
   "metadata": {},
   "outputs": [],
   "source": [
    "import pandas as pd\n",
    "import numpy as np\n",
    "from sklearn.preprocessing import LabelEncoder\n",
    "\n",
    "df = pd.read_csv('data/train.csv')\n",
    "df.drop(['PassengerId'], axis=1, inplace=True)\n",
    "\n",
    "# 'Embarked' is stored as letters, so fit a label encoder to the train set to use in the loop\n",
    "embarked_encoder = LabelEncoder()\n",
    "embarked_encoder.fit(df['Embarked'].fillna('Null'))\n",
    " \n",
    "# Record anyone travelling alone\n",
    "df['Alone'] = (df['SibSp'] == 0) & (df['Parch'] == 0)\n",
    "\n",
    "# Transform 'Embarked'\n",
    "df['Embarked'].fillna('Null', inplace=True)\n",
    "df['Embarked'] = embarked_encoder.transform(df['Embarked'])\n",
    "\n",
    "# Transform 'Sex'\n",
    "df.loc[df['Sex'] == 'female','Sex'] = 0\n",
    "df.loc[df['Sex'] == 'male','Sex'] = 1\n",
    "df['Sex'] = df['Sex'].astype('int8')\n",
    "\n",
    "# Drop features that seem unusable. Save passenger ids if test\n",
    "df.drop(['Name', 'Ticket', 'Cabin'], axis=1, inplace=True)"
   ]
  },
  {
   "cell_type": "code",
   "execution_count": null,
   "metadata": {},
   "outputs": [],
   "source": [
    "import os\n",
    "from azureml.core import Dataset\n",
    "\n",
    "def df_to_dataset(ws, df, name):\n",
    "    datastore = ws.get_default_datastore()\n",
    "    dataset = Dataset.Tabular.register_pandas_dataframe(df, datastore, name)\n",
    "    return dataset"
   ]
  },
  {
   "cell_type": "code",
   "execution_count": null,
   "metadata": {},
   "outputs": [],
   "source": [
    "ds = df_to_dataset(ws, df, 'titanic_cleaned')"
   ]
  },
  {
   "cell_type": "code",
   "execution_count": null,
   "metadata": {},
   "outputs": [],
   "source": [
    "from azureml.core.runconfig import RunConfiguration\n",
    "from azureml.core.conda_dependencies import CondaDependencies\n",
    " \n",
    "def get_run_config(target, packages=None):\n",
    "    packages = packages or []\n",
    "    packages += ['azureml-defaults']\n",
    "    config = RunConfiguration()\n",
    "    config.target = target\n",
    "    config.environment.python.conda_dependencies = CondaDependencies.create(pip_packages=packages)\n",
    "    return config"
   ]
  },
  {
   "cell_type": "code",
   "execution_count": null,
   "metadata": {},
   "outputs": [],
   "source": [
    "# Create a remote run configuration\n",
    "lgbm_config = get_run_config(aml_cluster, [\n",
    "    'numpy', 'pandas', 'matplotlib', 'seaborn', 'scikit-learn', 'joblib', 'lightgbm'\n",
    "])"
   ]
  },
  {
   "cell_type": "code",
   "execution_count": null,
   "metadata": {},
   "outputs": [],
   "source": [
    "script_params = [\n",
    "    '--data', ds.as_named_input('titanic'),\n",
    "    '--boosting', 'dart',\n",
    "    '--learning-rate', '0.05',\n",
    "    '--drop-rate', '0.15',\n",
    "]"
   ]
  },
  {
   "cell_type": "code",
   "execution_count": null,
   "metadata": {},
   "outputs": [],
   "source": [
    "from azureml.core import ScriptRunConfig\n",
    "from azureml.widgets import RunDetails\n",
    "\n",
    "script = 'train_lightgbm.py'\n",
    "script_folder = os.getcwd()\n",
    "\n",
    "src = ScriptRunConfig(\n",
    "  source_directory=script_folder,\n",
    "  script=script,\n",
    "  run_config=lgbm_config,\n",
    "  arguments=script_params)\n",
    "\n",
    "run = exp.submit(src)\n",
    "\n",
    "RunDetails(run).show()"
   ]
  },
  {
   "cell_type": "code",
   "execution_count": null,
   "metadata": {},
   "outputs": [],
   "source": [
    "print(run.get_portal_url())\n"
   ]
  }
 ],
 "metadata": {
  "interpreter": {
   "hash": "c39ce73b6d48f343ffd00681afb9b3f63104480cfaffe0ebb445fe41a6801158"
  },
  "kernelspec": {
   "display_name": "Python 3.8.2 64-bit ('packt-repo-M2qY5kM-': pipenv)",
   "name": "python3"
  },
  "language_info": {
   "codemirror_mode": {
    "name": "ipython",
    "version": 3
   },
   "file_extension": ".py",
   "mimetype": "text/x-python",
   "name": "python",
   "nbconvert_exporter": "python",
   "pygments_lexer": "ipython3",
   "version": "3.8.2"
  }
 },
 "nbformat": 4,
 "nbformat_minor": 4
}
