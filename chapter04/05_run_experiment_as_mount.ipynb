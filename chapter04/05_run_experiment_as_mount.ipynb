{
 "cells": [
  {
   "cell_type": "code",
   "execution_count": null,
   "metadata": {},
   "outputs": [],
   "source": [
    "from azureml.core import Workspace, Experiment\n",
    "\n",
    "# Configure experiment\n",
    "ws = Workspace.from_config()\n",
    "exp = Experiment(workspace=ws, name='cifar10_cnn_as_mount')"
   ]
  },
  {
   "cell_type": "code",
   "execution_count": null,
   "metadata": {},
   "outputs": [],
   "source": [
    "from azureml.core import Dataset\n",
    "\n",
    "ds = Dataset.get_by_name(ws, name='cifar10')"
   ]
  },
  {
   "cell_type": "code",
   "execution_count": null,
   "metadata": {},
   "outputs": [],
   "source": [
    "from azureml.core.compute import ComputeTarget, AmlCompute\n",
    "from azureml.core.compute_target import ComputeTargetException\n",
    "\n",
    "# cluster configuration\n",
    "cluster_name = \"mldemocompute\"\n",
    "min_nodes = 0\n",
    "max_nodes = 2\n",
    "vm_size = \"STANDARD_D2_V2\"\n",
    "\n",
    "# verify that the cluster exists already\n",
    "try:\n",
    "    aml_cluster = ComputeTarget(workspace=ws, name=cluster_name)\n",
    "except ComputeTargetException:\n",
    "    print('Cluster not `%s` not found, creating one now.' % cluster_name)\n",
    "    config = AmlCompute.provisioning_configuration(vm_size=vm_size, min_nodes=min_nodes, max_nodes=max_nodes)\n",
    "    aml_cluster = ComputeTarget.create(workspace=ws, name=cluster_name, provisioning_configuration=config)\n",
    "\n",
    "# wait until the cluster is ready\n",
    "aml_cluster.wait_for_completion(show_output=True)"
   ]
  },
  {
   "cell_type": "code",
   "execution_count": null,
   "metadata": {},
   "outputs": [],
   "source": [
    "import os\n",
    "from azureml.core import Environment\n",
    "\n",
    "# define the PIP requirements file location\n",
    "pipreq = 'requirements.txt'\n",
    "pipreq_path = os.path.join(os.getcwd(), '.azureml', pipreq)\n",
    "\n",
    "# set a remote environment from a PIP requirement file\n",
    "myenv = Environment.from_pip_requirements(name = \"remote_env\", file_path = pipreq_path)\n",
    "# show environment object\n",
    "myenv"
   ]
  },
  {
   "cell_type": "code",
   "execution_count": null,
   "metadata": {},
   "outputs": [],
   "source": [
    "from azureml.widgets import RunDetails\n",
    "from azureml.core import ScriptRunConfig\n",
    "\n",
    "src = ScriptRunConfig(source_directory=\"code\",\n",
    "                      script='cifar10_cnn_remote.py',\n",
    "                      arguments=['--input', ds.as_named_input('cifar10').as_mount()],\n",
    "                      ompute_target = aml_cluster,\n",
    "                      environment = myenv)\n",
    "\n",
    "run = exp.submit(src)\n",
    "RunDetails(run).show()"
   ]
  }
 ],
 "metadata": {
  "interpreter": {
   "hash": "c39ce73b6d48f343ffd00681afb9b3f63104480cfaffe0ebb445fe41a6801158"
  },
  "kernelspec": {
   "display_name": "Python 3.8.2 64-bit ('packt-repo-M2qY5kM-': pipenv)",
   "name": "python3"
  },
  "language_info": {
   "codemirror_mode": {
    "name": "ipython",
    "version": 3
   },
   "file_extension": ".py",
   "mimetype": "text/x-python",
   "name": "python",
   "nbconvert_exporter": "python",
   "pygments_lexer": "ipython3",
   "version": "3.8.2"
  }
 },
 "nbformat": 4,
 "nbformat_minor": 4
}
