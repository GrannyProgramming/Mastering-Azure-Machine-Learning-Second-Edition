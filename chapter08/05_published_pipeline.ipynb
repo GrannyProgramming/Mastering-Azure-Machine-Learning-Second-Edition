{
 "cells": [
  {
   "cell_type": "code",
   "execution_count": 1,
   "metadata": {},
   "outputs": [],
   "source": [
    "from utils import *"
   ]
  },
  {
   "cell_type": "code",
   "execution_count": 2,
   "metadata": {},
   "outputs": [
    {
     "name": "stderr",
     "output_type": "stream",
     "text": [
      "Warning: Falling back to use azure cli login credentials.\n",
      "If you run your code in unattended mode, i.e., where you can't give a user input, then we recommend to use ServicePrincipalAuthentication or MsiAuthentication.\n",
      "Please refer to aka.ms/aml-notebook-auth for different authentication mechanisms in azureml-sdk.\n"
     ]
    }
   ],
   "source": [
    "from azureml.core import Workspace\n",
    "\n",
    "# Configure experiment\n",
    "ws = Workspace.from_config()"
   ]
  },
  {
   "cell_type": "code",
   "execution_count": 3,
   "metadata": {},
   "outputs": [
    {
     "name": "stdout",
     "output_type": "stream",
     "text": [
      "Succeeded\n",
      "AmlCompute wait for completion finished\n",
      "\n",
      "Minimum number of nodes requested have been provisioned\n"
     ]
    }
   ],
   "source": [
    "# Create or get training cluster\n",
    "aml_cluster = get_aml_cluster(ws, cluster_name=\"cpu-cluster\")\n",
    "aml_cluster.wait_for_completion(show_output=True)"
   ]
  },
  {
   "cell_type": "code",
   "execution_count": 4,
   "metadata": {},
   "outputs": [],
   "source": [
    "# Create a run configuration\n",
    "run_conf = get_run_config(['numpy', 'pandas', 'scikit-learn', 'tensorflow'])"
   ]
  },
  {
   "cell_type": "code",
   "execution_count": 5,
   "metadata": {},
   "outputs": [],
   "source": [
    "from azureml.core import Dataset\n",
    "\n",
    "dataset = Dataset.get_by_name(ws, name='titanic')\n",
    "data_in = dataset.as_named_input('titanic')"
   ]
  },
  {
   "cell_type": "code",
   "execution_count": 6,
   "metadata": {},
   "outputs": [],
   "source": [
    "from azureml.core import Datastore\n",
    "from azureml.pipeline.core import PipelineData\n",
    "\n",
    "datastore = Datastore.get(ws, datastore_name=\"mldata\")\n",
    "data_train = PipelineData('train', datastore=datastore)\n",
    "data_test = PipelineData('test', datastore=datastore)"
   ]
  },
  {
   "cell_type": "code",
   "execution_count": 7,
   "metadata": {},
   "outputs": [],
   "source": [
    "from azureml.data import OutputFileDatasetConfig\n",
    "\n",
    "data_out = OutputFileDatasetConfig(name=\"predictions\", destination=(datastore, 'titanic/predictions'))\n",
    "data_out = data_out.read_delimited_files().register_on_complete('titanic.pred')"
   ]
  },
  {
   "cell_type": "code",
   "execution_count": 8,
   "metadata": {},
   "outputs": [],
   "source": [
    "from azureml.pipeline.steps import PythonScriptStep\n",
    "\n",
    "step_1 = PythonScriptStep(name='Preprocessing',\n",
    "                          script_name=\"preprocess_output.py\",\n",
    "                          source_directory=\"code\",\n",
    "                          arguments=[\n",
    "                              \"--input\", data_in,\n",
    "                              \"--out-train\", data_train,\n",
    "                              \"--out-test\", data_test],\n",
    "                          inputs=[data_in],\n",
    "                          outputs=[data_train, data_test],\n",
    "                          runconfig=run_conf,\n",
    "                          compute_target=aml_cluster)\n"
   ]
  },
  {
   "cell_type": "code",
   "execution_count": 9,
   "metadata": {},
   "outputs": [],
   "source": [
    "from azureml.pipeline.core.graph import PipelineParameter\n",
    "\n",
    "lr_param = PipelineParameter(name=\"lr_arg\", default_value=0.01)"
   ]
  },
  {
   "cell_type": "code",
   "execution_count": 10,
   "metadata": {},
   "outputs": [],
   "source": [
    "from azureml.pipeline.steps import PythonScriptStep\n",
    "\n",
    "step_2 = PythonScriptStep(name='Training',\n",
    "                          script_name=\"train_output.py\",\n",
    "                          source_directory=\"code\",\n",
    "                          arguments=[\n",
    "                              \"--in-train\", data_train,\n",
    "                              \"--in-test\", data_test,\n",
    "                              \"--output\", data_out,\n",
    "                              \"--learning-rate\", lr_param],\n",
    "                          inputs=[data_train, data_test],\n",
    "                          outputs=[data_out],\n",
    "                          runconfig=run_conf,\n",
    "                          compute_target=aml_cluster)"
   ]
  },
  {
   "cell_type": "code",
   "execution_count": 11,
   "metadata": {},
   "outputs": [],
   "source": [
    "from azureml.pipeline.core import Pipeline\n",
    "\n",
    "pipeline = Pipeline(ws, steps=[step_1, step_2])"
   ]
  },
  {
   "cell_type": "code",
   "execution_count": 12,
   "metadata": {},
   "outputs": [
    {
     "name": "stdout",
     "output_type": "stream",
     "text": [
      "Step Training is ready to be created [4efcae3f]\n"
     ]
    },
    {
     "data": {
      "text/plain": [
       "[]"
      ]
     },
     "execution_count": 12,
     "metadata": {},
     "output_type": "execute_result"
    }
   ],
   "source": [
    "pipeline.validate()"
   ]
  },
  {
   "cell_type": "code",
   "execution_count": 15,
   "metadata": {},
   "outputs": [
    {
     "name": "stdout",
     "output_type": "stream",
     "text": [
      "Pipeline(Name: AzureML Published Pipeline,\n",
      "Id: 8ce894d6-5aea-406e-9669-d0edbe6eb19e,\n",
      "Status: Active,\n",
      "Endpoint: https://westeurope.api.azureml.ms/pipelines/v1.0/subscriptions/21dc412b-d9eb-42e7-8317-55bc8eb10cf5/resourceGroups/packt/providers/Microsoft.MachineLearningServices/workspaces/mldemows/PipelineRuns/PipelineSubmit/8ce894d6-5aea-406e-9669-d0edbe6eb19e)\n"
     ]
    }
   ],
   "source": [
    "service = pipeline.publish(name=\"AzureML Published Pipeline\", version=\"1.0\")\n",
    "\n",
    "print(service)\n",
    "service_id = service.id\n",
    "service_endpoint = service.endpoint"
   ]
  },
  {
   "cell_type": "code",
   "execution_count": 16,
   "metadata": {},
   "outputs": [
    {
     "name": "stdout",
     "output_type": "stream",
     "text": [
      "PipelineEndpoint(Name: AzureML Published Pipeline Endpoint,\n",
      "Id: 89692b17-a436-498c-8aa9-8b60fa58c547,\n",
      "Description: Mastering Azure Machine Learning,\n",
      "Pipelines: [('0', Pipeline(Name: AzureML Published Pipeline,\n",
      "Id: 8ce894d6-5aea-406e-9669-d0edbe6eb19e,\n",
      "Status: Active,\n",
      "Endpoint: https://westeurope.api.azureml.ms/pipelines/v1.0/subscriptions/21dc412b-d9eb-42e7-8317-55bc8eb10cf5/resourceGroups/packt/providers/Microsoft.MachineLearningServices/workspaces/mldemows/PipelineRuns/PipelineSubmit/8ce894d6-5aea-406e-9669-d0edbe6eb19e))])\n"
     ]
    }
   ],
   "source": [
    "from azureml.pipeline.core import PipelineEndpoint\n",
    "\n",
    "endpoint = PipelineEndpoint.publish(ws, pipeline=service, name=\"AzureML Published Pipeline Endpoint\", description=\"Mastering Azure Machine Learning\")\n",
    "\n",
    "print(endpoint)\n",
    "service_id = endpoint.id\n",
    "service_endpoint = endpoint.endpoint"
   ]
  },
  {
   "cell_type": "code",
   "execution_count": 17,
   "metadata": {},
   "outputs": [],
   "source": [
    "from azureml.core.authentication import AzureCliAuthentication\n",
    "\n",
    "cli_auth = AzureCliAuthentication()\n",
    "aad_token = cli_auth.get_authentication_header()"
   ]
  },
  {
   "cell_type": "code",
   "execution_count": 18,
   "metadata": {},
   "outputs": [
    {
     "name": "stdout",
     "output_type": "stream",
     "text": [
      "<bound method Response.json of <Response [200]>>\n"
     ]
    }
   ],
   "source": [
    "import requests\n",
    "\n",
    "request = {\n",
    "    \"ExperimentName\": \"azureml-pipeline-trigger\",\n",
    "    \"ParameterAssignments\": {\n",
    "        \"lr_arg\": 0.05\n",
    "    }\n",
    "}\n",
    "\n",
    "response = requests.post(service_endpoint, headers=aad_token, json=request)\n",
    "print(response.json)"
   ]
  },
  {
   "cell_type": "code",
   "execution_count": null,
   "metadata": {},
   "outputs": [],
   "source": [
    "# service.disable()\n",
    "# endpoint.disable()"
   ]
  }
 ],
 "metadata": {
  "interpreter": {
   "hash": "c39ce73b6d48f343ffd00681afb9b3f63104480cfaffe0ebb445fe41a6801158"
  },
  "kernelspec": {
   "display_name": "Python 3.8.2 64-bit ('packt-repo-M2qY5kM-': pipenv)",
   "name": "python3"
  },
  "language_info": {
   "codemirror_mode": {
    "name": "ipython",
    "version": 3
   },
   "file_extension": ".py",
   "mimetype": "text/x-python",
   "name": "python",
   "nbconvert_exporter": "python",
   "pygments_lexer": "ipython3",
   "version": "3.8.2"
  }
 },
 "nbformat": 4,
 "nbformat_minor": 4
}
