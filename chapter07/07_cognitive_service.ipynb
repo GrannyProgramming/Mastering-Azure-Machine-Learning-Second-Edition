{
 "cells": [
  {
   "cell_type": "code",
   "execution_count": 2,
   "source": [
    "import requests\n",
    "\n",
    "region='westeurope'\n",
    "language='en'\n",
    "version='v3.1'\n",
    "\n",
    "key = '2fcb1177d1fa4ef38450219caf48880f'\n",
    "\n",
    "url = \"https://{region}.api.cognitive.microsoft.com/text/analytics/{version}/sentiment\".format(\n",
    "    region=region, version=version)\n",
    "\n",
    "params = {\n",
    "    'showStats': False\n",
    "}\n",
    "headers = {\n",
    "    'Content-Type': 'application/json',\n",
    "    'Ocp-Apim-Subscription-Key': key\n",
    "}\n",
    "payload = {\n",
    "    'documents': [{\n",
    "        'id': '1',\n",
    "        'text': 'This is some input text that I love.',\n",
    "        'language': language   \n",
    "    }]\n",
    "}\n",
    "\n",
    "response = requests.post(url, json=payload, params=params, headers=headers)\n",
    "result = response.json()\n",
    "result"
   ],
   "outputs": [
    {
     "output_type": "execute_result",
     "data": {
      "text/plain": [
       "{'error': {'code': '401',\n",
       "  'message': 'The Sentiment Operation under Text Analytics API (v3.1) is not supported with the current subscription key and pricing tier ComputerVision.F0.'}}"
      ]
     },
     "metadata": {},
     "execution_count": 2
    }
   ],
   "metadata": {}
  }
 ],
 "metadata": {
  "orig_nbformat": 4,
  "language_info": {
   "name": "python",
   "version": "3.8.2",
   "mimetype": "text/x-python",
   "codemirror_mode": {
    "name": "ipython",
    "version": 3
   },
   "pygments_lexer": "ipython3",
   "nbconvert_exporter": "python",
   "file_extension": ".py"
  },
  "kernelspec": {
   "name": "python3",
   "display_name": "Python 3.8.2 64-bit ('packt-repo-M2qY5kM-': pipenv)"
  },
  "interpreter": {
   "hash": "c39ce73b6d48f343ffd00681afb9b3f63104480cfaffe0ebb445fe41a6801158"
  }
 },
 "nbformat": 4,
 "nbformat_minor": 2
}